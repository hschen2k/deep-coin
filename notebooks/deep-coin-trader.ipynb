{
 "cells": [
  {
   "cell_type": "markdown",
   "metadata": {},
   "source": [
    "Starting by importing neccesary libraries."
   ]
  },
  {
   "cell_type": "code",
   "execution_count": 1,
   "metadata": {},
   "outputs": [
    {
     "name": "stderr",
     "output_type": "stream",
     "text": [
      "Using TensorFlow backend.\n"
     ]
    }
   ],
   "source": [
    "import os\n",
    "import numpy as np\n",
    "import keras\n",
    "import matplotlib as plt\n",
    "import seaborn\n",
    "from pprint import pprint\n",
    "\n",
    "import gdax"
   ]
  },
  {
   "cell_type": "code",
   "execution_count": 2,
   "metadata": {},
   "outputs": [],
   "source": [
    "public_client = gdax.PublicClient()"
   ]
  },
  {
   "cell_type": "markdown",
   "metadata": {},
   "source": [
    "Let's test our calls to public endpoint of GDAX API. To do so, I'll request "
   ]
  },
  {
   "cell_type": "code",
   "execution_count": 3,
   "metadata": {},
   "outputs": [],
   "source": [
    "products = public_client.get_products()"
   ]
  },
  {
   "cell_type": "code",
   "execution_count": 4,
   "metadata": {},
   "outputs": [
    {
     "name": "stdout",
     "output_type": "stream",
     "text": [
      "<class 'list'>\n"
     ]
    }
   ],
   "source": [
    "print (type(products))"
   ]
  },
  {
   "cell_type": "code",
   "execution_count": 5,
   "metadata": {},
   "outputs": [
    {
     "name": "stdout",
     "output_type": "stream",
     "text": [
      "[{'base_currency': 'LTC',\n",
      "  'base_max_size': '1000000',\n",
      "  'base_min_size': '0.01',\n",
      "  'display_name': 'LTC/EUR',\n",
      "  'id': 'LTC-EUR',\n",
      "  'quote_currency': 'EUR',\n",
      "  'quote_increment': '0.01'},\n",
      " {'base_currency': 'LTC',\n",
      "  'base_max_size': '1000000',\n",
      "  'base_min_size': '0.01',\n",
      "  'display_name': 'LTC/BTC',\n",
      "  'id': 'LTC-BTC',\n",
      "  'quote_currency': 'BTC',\n",
      "  'quote_increment': '0.00001'},\n",
      " {'base_currency': 'BTC',\n",
      "  'base_max_size': '250',\n",
      "  'base_min_size': '0.01',\n",
      "  'display_name': 'BTC/GBP',\n",
      "  'id': 'BTC-GBP',\n",
      "  'quote_currency': 'GBP',\n",
      "  'quote_increment': '0.01'},\n",
      " {'base_currency': 'BTC',\n",
      "  'base_max_size': '250',\n",
      "  'base_min_size': '0.01',\n",
      "  'display_name': 'BTC/EUR',\n",
      "  'id': 'BTC-EUR',\n",
      "  'quote_currency': 'EUR',\n",
      "  'quote_increment': '0.01'},\n",
      " {'base_currency': 'ETH',\n",
      "  'base_max_size': '5000',\n",
      "  'base_min_size': '0.01',\n",
      "  'display_name': 'ETH/EUR',\n",
      "  'id': 'ETH-EUR',\n",
      "  'quote_currency': 'EUR',\n",
      "  'quote_increment': '0.01'},\n",
      " {'base_currency': 'ETH',\n",
      "  'base_max_size': '5000',\n",
      "  'base_min_size': '0.01',\n",
      "  'display_name': 'ETH/BTC',\n",
      "  'id': 'ETH-BTC',\n",
      "  'quote_currency': 'BTC',\n",
      "  'quote_increment': '0.00001'},\n",
      " {'base_currency': 'LTC',\n",
      "  'base_max_size': '1000000',\n",
      "  'base_min_size': '0.01',\n",
      "  'display_name': 'LTC/USD',\n",
      "  'id': 'LTC-USD',\n",
      "  'quote_currency': 'USD',\n",
      "  'quote_increment': '0.01'},\n",
      " {'base_currency': 'BTC',\n",
      "  'base_max_size': '250',\n",
      "  'base_min_size': '0.01',\n",
      "  'display_name': 'BTC/USD',\n",
      "  'id': 'BTC-USD',\n",
      "  'quote_currency': 'USD',\n",
      "  'quote_increment': '0.01'},\n",
      " {'base_currency': 'ETH',\n",
      "  'base_max_size': '5000',\n",
      "  'base_min_size': '0.01',\n",
      "  'display_name': 'ETH/USD',\n",
      "  'id': 'ETH-USD',\n",
      "  'quote_currency': 'USD',\n",
      "  'quote_increment': '0.01'}]\n"
     ]
    }
   ],
   "source": [
    "pprint (products)"
   ]
  },
  {
   "cell_type": "code",
   "execution_count": null,
   "metadata": {},
   "outputs": [],
   "source": []
  }
 ],
 "metadata": {
  "kernelspec": {
   "display_name": "Python 3",
   "language": "python",
   "name": "python3"
  },
  "language_info": {
   "codemirror_mode": {
    "name": "ipython",
    "version": 3
   },
   "file_extension": ".py",
   "mimetype": "text/x-python",
   "name": "python",
   "nbconvert_exporter": "python",
   "pygments_lexer": "ipython3",
   "version": "3.5.2"
  }
 },
 "nbformat": 4,
 "nbformat_minor": 2
}
